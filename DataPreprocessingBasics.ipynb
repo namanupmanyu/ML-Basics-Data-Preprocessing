{
  "nbformat": 4,
  "nbformat_minor": 0,
  "metadata": {
    "colab": {
      "provenance": []
    },
    "kernelspec": {
      "name": "python3",
      "display_name": "Python 3"
    },
    "language_info": {
      "name": "python"
    }
  },
  "cells": [
    {
      "cell_type": "markdown",
      "source": [
        "**Data Preprocessing**\n",
        "\n",
        "\n",
        "1.   Importing Libraries\n",
        "2.   Importing Data\n",
        "3.   Handling Missing Data or Value\n",
        "4.   Encoding Categorical data\n",
        "5.   Feature SCaling\n",
        "\n"
      ],
      "metadata": {
        "id": "FN3uzT14M0Qa"
      }
    },
    {
      "cell_type": "code",
      "source": [
        "import pandas as pd\n",
        "import numpy as np\n",
        "import matplotlib.pyplot as plt"
      ],
      "metadata": {
        "id": "q4iXnvSYNTak"
      },
      "execution_count": 60,
      "outputs": []
    },
    {
      "cell_type": "code",
      "source": [
        "dataset=pd.read_csv(\"/content/healthcare-dataset-stroke-data.csv\")\n",
        "print(dataset)\n",
        "\n"
      ],
      "metadata": {
        "colab": {
          "base_uri": "https://localhost:8080/",
          "height": 0
        },
        "id": "Z6k-4aO_NdaU",
        "outputId": "0ac26a74-cccd-4533-ac6d-66957cb0e956"
      },
      "execution_count": 61,
      "outputs": [
        {
          "output_type": "stream",
          "name": "stdout",
          "text": [
            "         id  gender   age  hypertension  heart_disease ever_married  \\\n",
            "0      9046    Male  67.0             0              1          Yes   \n",
            "1     51676  Female  61.0             0              0          Yes   \n",
            "2     31112    Male  80.0             0              1          Yes   \n",
            "3     60182  Female  49.0             0              0          Yes   \n",
            "4      1665  Female  79.0             1              0          Yes   \n",
            "...     ...     ...   ...           ...            ...          ...   \n",
            "5105  18234  Female  80.0             1              0          Yes   \n",
            "5106  44873  Female  81.0             0              0          Yes   \n",
            "5107  19723  Female  35.0             0              0          Yes   \n",
            "5108  37544    Male  51.0             0              0          Yes   \n",
            "5109  44679  Female  44.0             0              0          Yes   \n",
            "\n",
            "          work_type Residence_type  avg_glucose_level   bmi   smoking_status  \\\n",
            "0           Private          Urban             228.69  36.6  formerly smoked   \n",
            "1     Self-employed          Rural             202.21   NaN     never smoked   \n",
            "2           Private          Rural             105.92  32.5     never smoked   \n",
            "3           Private          Urban             171.23  34.4           smokes   \n",
            "4     Self-employed          Rural             174.12  24.0     never smoked   \n",
            "...             ...            ...                ...   ...              ...   \n",
            "5105        Private          Urban              83.75   NaN     never smoked   \n",
            "5106  Self-employed          Urban             125.20  40.0     never smoked   \n",
            "5107  Self-employed          Rural              82.99  30.6     never smoked   \n",
            "5108        Private          Rural             166.29  25.6  formerly smoked   \n",
            "5109       Govt_job          Urban              85.28  26.2          Unknown   \n",
            "\n",
            "      stroke  \n",
            "0          1  \n",
            "1          1  \n",
            "2          1  \n",
            "3          1  \n",
            "4          1  \n",
            "...      ...  \n",
            "5105       0  \n",
            "5106       0  \n",
            "5107       0  \n",
            "5108       0  \n",
            "5109       0  \n",
            "\n",
            "[5110 rows x 12 columns]\n"
          ]
        }
      ]
    },
    {
      "cell_type": "code",
      "source": [
        "dataset.drop(columns=['id'], inplace=True)"
      ],
      "metadata": {
        "id": "rFXrksPAMW_U"
      },
      "execution_count": 62,
      "outputs": []
    },
    {
      "cell_type": "code",
      "source": [
        "dataset.info()"
      ],
      "metadata": {
        "colab": {
          "base_uri": "https://localhost:8080/",
          "height": 0
        },
        "id": "Ki9qIIvjkik7",
        "outputId": "d2b4d88c-ce3d-4e7a-cb59-db4b8d8571b1"
      },
      "execution_count": 63,
      "outputs": [
        {
          "output_type": "stream",
          "name": "stdout",
          "text": [
            "<class 'pandas.core.frame.DataFrame'>\n",
            "RangeIndex: 5110 entries, 0 to 5109\n",
            "Data columns (total 11 columns):\n",
            " #   Column             Non-Null Count  Dtype  \n",
            "---  ------             --------------  -----  \n",
            " 0   gender             5110 non-null   object \n",
            " 1   age                5110 non-null   float64\n",
            " 2   hypertension       5110 non-null   int64  \n",
            " 3   heart_disease      5110 non-null   int64  \n",
            " 4   ever_married       5110 non-null   object \n",
            " 5   work_type          5110 non-null   object \n",
            " 6   Residence_type     5110 non-null   object \n",
            " 7   avg_glucose_level  5110 non-null   float64\n",
            " 8   bmi                4909 non-null   float64\n",
            " 9   smoking_status     5110 non-null   object \n",
            " 10  stroke             5110 non-null   int64  \n",
            "dtypes: float64(3), int64(3), object(5)\n",
            "memory usage: 439.3+ KB\n"
          ]
        }
      ]
    },
    {
      "cell_type": "code",
      "source": [
        "\"\"\"X=dataset.iloc[:,:-1].values\n",
        "y=dataset.iloc[:,-1].values\"\"\""
      ],
      "metadata": {
        "id": "ZJSxNnhBO2OG"
      },
      "execution_count": 53,
      "outputs": []
    },
    {
      "cell_type": "code",
      "source": [
        "\"\"\"print(X)\"\"\"\n"
      ],
      "metadata": {
        "colab": {
          "base_uri": "https://localhost:8080/",
          "height": 0
        },
        "id": "ui81dj4xPRee",
        "outputId": "c496f9c9-53a8-40ef-ace3-5d0bb2374c22"
      },
      "execution_count": 54,
      "outputs": [
        {
          "output_type": "stream",
          "name": "stdout",
          "text": [
            "[['Male' 67.0 0 ... 228.69 36.6 'formerly smoked']\n",
            " ['Female' 61.0 0 ... 202.21 nan 'never smoked']\n",
            " ['Male' 80.0 0 ... 105.92 32.5 'never smoked']\n",
            " ...\n",
            " ['Female' 35.0 0 ... 82.99 30.6 'never smoked']\n",
            " ['Male' 51.0 0 ... 166.29 25.6 'formerly smoked']\n",
            " ['Female' 44.0 0 ... 85.28 26.2 'Unknown']]\n"
          ]
        }
      ]
    },
    {
      "cell_type": "code",
      "source": [
        "\"\" \"print(y) \"\"\""
      ],
      "metadata": {
        "colab": {
          "base_uri": "https://localhost:8080/",
          "height": 0
        },
        "id": "LelTEjcIPVWq",
        "outputId": "12d67b91-70d2-49ea-81fe-715fdaa2dc23"
      },
      "execution_count": 55,
      "outputs": [
        {
          "output_type": "stream",
          "name": "stdout",
          "text": [
            "[1 1 1 ... 0 0 0]\n"
          ]
        }
      ]
    },
    {
      "cell_type": "markdown",
      "source": [
        "**Encoding Categorical Data**"
      ],
      "metadata": {
        "id": "K0-ddh8LQ8Wv"
      }
    },
    {
      "cell_type": "code",
      "source": [
        "from sklearn.compose import ColumnTransformer\n",
        "from sklearn.preprocessing import OneHotEncoder\n",
        "import numpy as np\n",
        "\n",
        "# Define transformer\n",
        "ct = ColumnTransformer(transformers=[('encoder',OneHotEncoder(), [6])], remainder='passthrough')\n",
        "\n",
        "# Fit and transform\n",
        "X=np.array(ct.fit_transform(X))\n",
        "\n",
        "\n"
      ],
      "metadata": {
        "id": "qLtxjDIIQ6SL"
      },
      "execution_count": 64,
      "outputs": []
    },
    {
      "cell_type": "code",
      "source": [
        "dataset= pd.get_dummies(data =dataset, columns =['gender','ever_married','work_type','Residence_type','smoking_status'],drop_first=True )\n"
      ],
      "metadata": {
        "id": "RJ2uIJ96B40a"
      },
      "execution_count": 65,
      "outputs": []
    },
    {
      "cell_type": "code",
      "source": [
        "X=dataset.iloc[:,:-1].values\n",
        "y=dataset.iloc[:,-1].values"
      ],
      "metadata": {
        "id": "qvCe6UU-KMNd"
      },
      "execution_count": 66,
      "outputs": []
    },
    {
      "cell_type": "code",
      "source": [
        "print(X)"
      ],
      "metadata": {
        "colab": {
          "base_uri": "https://localhost:8080/",
          "height": 0
        },
        "id": "U4rscwXKUpsn",
        "outputId": "626136b2-5048-4980-a5b3-46e3143be418"
      },
      "execution_count": 67,
      "outputs": [
        {
          "output_type": "stream",
          "name": "stdout",
          "text": [
            "[[67.0 0 1 ... True True False]\n",
            " [61.0 0 0 ... False False True]\n",
            " [80.0 0 1 ... False False True]\n",
            " ...\n",
            " [35.0 0 0 ... False False True]\n",
            " [51.0 0 0 ... False True False]\n",
            " [44.0 0 0 ... True False False]]\n"
          ]
        }
      ]
    },
    {
      "cell_type": "code",
      "source": [
        "print(y)"
      ],
      "metadata": {
        "colab": {
          "base_uri": "https://localhost:8080/",
          "height": 0
        },
        "id": "8LiZsNd7ErBs",
        "outputId": "7ec2b69a-7f4e-4496-ea66-e57cbd918d73"
      },
      "execution_count": 69,
      "outputs": [
        {
          "output_type": "stream",
          "name": "stdout",
          "text": [
            "[False False False ... False False False]\n"
          ]
        }
      ]
    },
    {
      "cell_type": "code",
      "source": [
        "from sklearn.preprocessing import LabelEncoder\n",
        "le=LabelEncoder()\n",
        "y=le.fit_transform(y)\n",
        "print(y)"
      ],
      "metadata": {
        "colab": {
          "base_uri": "https://localhost:8080/",
          "height": 0
        },
        "id": "84Nr8NSqSQuY",
        "outputId": "e4a96880-df9a-46fa-f849-2b3917a18717"
      },
      "execution_count": 70,
      "outputs": [
        {
          "output_type": "stream",
          "name": "stdout",
          "text": [
            "[0 0 0 ... 0 0 0]\n"
          ]
        }
      ]
    },
    {
      "cell_type": "markdown",
      "source": [
        "**Handling Missing Values**"
      ],
      "metadata": {
        "id": "vmOHfzsWW55M"
      }
    },
    {
      "cell_type": "code",
      "source": [
        "from sklearn.impute import SimpleImputer\n",
        "imputer=SimpleImputer(missing_values=np.nan,strategy='mean')\n",
        "imputer.fit(X[:,0:9])\n",
        "X[:,0:9]=imputer.transform(X[:,0:9])"
      ],
      "metadata": {
        "id": "oEsgjSewW9K0"
      },
      "execution_count": 72,
      "outputs": []
    },
    {
      "cell_type": "markdown",
      "source": [
        "**Splitting the dataset**\n"
      ],
      "metadata": {
        "id": "Y0SO-2G5pyqR"
      }
    },
    {
      "cell_type": "code",
      "source": [
        "from sklearn.model_selection import train_test_split\n",
        "X_train,X_test,y_train,y_test=train_test_split(X,y,test_size=0.2,random_state=42)"
      ],
      "metadata": {
        "id": "Y0JcAvI-p2qz"
      },
      "execution_count": 73,
      "outputs": []
    },
    {
      "cell_type": "code",
      "source": [
        "print(X_train)"
      ],
      "metadata": {
        "colab": {
          "base_uri": "https://localhost:8080/",
          "height": 0
        },
        "id": "9XJ4rSVpm_Hk",
        "outputId": "a63a3eb4-36d1-449e-f8a4-1dd64a085000"
      },
      "execution_count": 74,
      "outputs": [
        {
          "output_type": "stream",
          "name": "stdout",
          "text": [
            "[[79.0 0.0 0.0 ... False True False]\n",
            " [62.0 0.0 0.0 ... True False False]\n",
            " [21.0 0.0 0.0 ... False False True]\n",
            " ...\n",
            " [1.16 0.0 0.0 ... True False False]\n",
            " [80.0 0.0 0.0 ... False True False]\n",
            " [46.0 0.0 0.0 ... False False False]]\n"
          ]
        }
      ]
    },
    {
      "cell_type": "code",
      "source": [
        "print(X_test)"
      ],
      "metadata": {
        "colab": {
          "base_uri": "https://localhost:8080/",
          "height": 0
        },
        "id": "imh4qkFnqiSW",
        "outputId": "a26c1b04-ebc6-405d-86d0-1ebf35f2246b"
      },
      "execution_count": 75,
      "outputs": [
        {
          "output_type": "stream",
          "name": "stdout",
          "text": [
            "[[31.0 0.0 0.0 ... False False False]\n",
            " [40.0 0.0 0.0 ... False False True]\n",
            " [8.0 0.0 0.0 ... True False False]\n",
            " ...\n",
            " [49.0 1.0 0.0 ... False True False]\n",
            " [56.0 0.0 0.0 ... True False False]\n",
            " [78.0 1.0 1.0 ... False False True]]\n"
          ]
        }
      ]
    },
    {
      "cell_type": "code",
      "source": [
        "print(y_test)"
      ],
      "metadata": {
        "colab": {
          "base_uri": "https://localhost:8080/",
          "height": 0
        },
        "id": "4Cnt7rUdqpq-",
        "outputId": "f1a96522-62fb-4911-fce9-efe72bbcb7d0"
      },
      "execution_count": 76,
      "outputs": [
        {
          "output_type": "stream",
          "name": "stdout",
          "text": [
            "[0 0 0 ... 0 1 0]\n"
          ]
        }
      ]
    },
    {
      "cell_type": "code",
      "source": [
        "print(y_train)"
      ],
      "metadata": {
        "colab": {
          "base_uri": "https://localhost:8080/",
          "height": 0
        },
        "id": "tnmFuyOiqsgv",
        "outputId": "18880278-faa5-4cb0-9904-1a5c4ebc6037"
      },
      "execution_count": 77,
      "outputs": [
        {
          "output_type": "stream",
          "name": "stdout",
          "text": [
            "[0 0 0 ... 0 0 1]\n"
          ]
        }
      ]
    },
    {
      "cell_type": "markdown",
      "source": [
        "Feature Sampling\n"
      ],
      "metadata": {
        "id": "q-WsfzeIKzoe"
      }
    },
    {
      "cell_type": "code",
      "source": [
        "from sklearn.preprocessing import StandardScaler\n",
        "\n",
        "sc = StandardScaler()\n",
        "X_train[:, :9] = sc.fit_transform(X_train[:, :9])\n",
        "X_test[:, :9] = sc.transform(X_test[:, :9])\n",
        "\n",
        "print(X_train)\n"
      ],
      "metadata": {
        "colab": {
          "base_uri": "https://localhost:8080/",
          "height": 0
        },
        "id": "3GQxPciNK2q-",
        "outputId": "6b2d69a4-6717-435e-9f70-20bf262a6d96"
      },
      "execution_count": 83,
      "outputs": [
        {
          "output_type": "stream",
          "name": "stdout",
          "text": [
            "[[1.5841547240261877 -0.3219809097811624 -0.23618874648667124 ... False\n",
            "  True False]\n",
            " [0.8297076566842779 -0.3219809097811624 -0.23618874648667124 ... True\n",
            "  False False]\n",
            " [-0.9898411527873868 -0.3219809097811624 -0.23618874648667124 ... False\n",
            "  False True]\n",
            " ...\n",
            " [-1.870325259614651 -0.3219809097811624 -0.23618874648667124 ... True\n",
            "  False False]\n",
            " [1.6285339632815943 -0.3219809097811624 -0.23618874648667124 ... False\n",
            "  True False]\n",
            " [0.11963982859777464 -0.3219809097811624 -0.23618874648667124 ... False\n",
            "  False False]]\n"
          ]
        }
      ]
    },
    {
      "cell_type": "code",
      "source": [
        "print(X_test)\n"
      ],
      "metadata": {
        "colab": {
          "base_uri": "https://localhost:8080/",
          "height": 0
        },
        "id": "dRU9TVItLuGr",
        "outputId": "8535a924-309d-42de-8a16-30b89184414f"
      },
      "execution_count": 84,
      "outputs": [
        {
          "output_type": "stream",
          "name": "stdout",
          "text": [
            "[[-0.5460487602333223 -0.3219809097811624 -0.23618874648667124 ... False\n",
            "  False False]\n",
            " [-0.1466356069346641 -0.3219809097811624 -0.23618874648667124 ... False\n",
            "  False True]\n",
            " [-1.5667712631076705 -0.3219809097811624 -0.23618874648667124 ... True\n",
            "  False False]\n",
            " ...\n",
            " [0.252777546363994 3.1057741922641204 -0.23618874648667124 ... False\n",
            "  True False]\n",
            " [0.5634322211518392 -0.3219809097811624 -0.23618874648667124 ... True\n",
            "  False False]\n",
            " [1.5397754847707812 3.1057741922641204 4.2339019740573525 ... False\n",
            "  False True]]\n"
          ]
        }
      ]
    }
  ]
}