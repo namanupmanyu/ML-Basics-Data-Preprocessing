{
 "cells": [
  {
   "cell_type": "code",
   "execution_count": 33,
   "id": "d9ab483c",
   "metadata": {},
   "outputs": [],
   "source": [
    "# Importing the libraries\n",
    "import numpy as np\n",
    "import pandas as pd\n",
    "import matplotlib.pyplot as plt"
   ]
  },
  {
   "cell_type": "code",
   "execution_count": 34,
   "id": "6315be16",
   "metadata": {},
   "outputs": [],
   "source": [
    "#importing the dataset\n",
    "data=pd.read_csv(r\"C:\\Users\\HP\\OneDrive\\Desktop\\testprojects\\dataset\\covid dataset csv\\Covid Data.csv\")"
   ]
  },
  {
   "cell_type": "code",
   "execution_count": 35,
   "id": "7bf8bc37",
   "metadata": {},
   "outputs": [
    {
     "name": "stdout",
     "output_type": "stream",
     "text": [
      "         USMER  MEDICAL_UNIT  SEX  PATIENT_TYPE   DATE_DIED  INTUBED  \\\n",
      "0            2             1    1             1  03/05/2020       97   \n",
      "1            2             1    2             1  03/06/2020       97   \n",
      "2            2             1    2             2  09/06/2020        1   \n",
      "3            2             1    1             1  12/06/2020       97   \n",
      "4            2             1    2             1  21/06/2020       97   \n",
      "...        ...           ...  ...           ...         ...      ...   \n",
      "1048570      2            13    2             1  9999-99-99       97   \n",
      "1048571      1            13    2             2  9999-99-99        2   \n",
      "1048572      2            13    2             1  9999-99-99       97   \n",
      "1048573      2            13    2             1  9999-99-99       97   \n",
      "1048574      2            13    2             1  9999-99-99       97   \n",
      "\n",
      "         PNEUMONIA  AGE  PREGNANT  DIABETES  ...  ASTHMA  INMSUPR  \\\n",
      "0                1   65         2         2  ...       2        2   \n",
      "1                1   72        97         2  ...       2        2   \n",
      "2                2   55        97         1  ...       2        2   \n",
      "3                2   53         2         2  ...       2        2   \n",
      "4                2   68        97         1  ...       2        2   \n",
      "...            ...  ...       ...       ...  ...     ...      ...   \n",
      "1048570          2   40        97         2  ...       2        2   \n",
      "1048571          2   51        97         2  ...       2        2   \n",
      "1048572          2   55        97         2  ...       2        2   \n",
      "1048573          2   28        97         2  ...       2        2   \n",
      "1048574          2   52        97         2  ...       2        2   \n",
      "\n",
      "         HIPERTENSION  OTHER_DISEASE  CARDIOVASCULAR  OBESITY  RENAL_CHRONIC  \\\n",
      "0                   1              2               2        2              2   \n",
      "1                   1              2               2        1              1   \n",
      "2                   2              2               2        2              2   \n",
      "3                   2              2               2        2              2   \n",
      "4                   1              2               2        2              2   \n",
      "...               ...            ...             ...      ...            ...   \n",
      "1048570             2              2               2        2              2   \n",
      "1048571             1              2               2        2              2   \n",
      "1048572             2              2               2        2              2   \n",
      "1048573             2              2               2        2              2   \n",
      "1048574             2              2               2        2              2   \n",
      "\n",
      "         TOBACCO  CLASIFFICATION_FINAL  ICU  \n",
      "0              2                     3   97  \n",
      "1              2                     5   97  \n",
      "2              2                     3    2  \n",
      "3              2                     7   97  \n",
      "4              2                     3   97  \n",
      "...          ...                   ...  ...  \n",
      "1048570        2                     7   97  \n",
      "1048571        2                     7    2  \n",
      "1048572        2                     7   97  \n",
      "1048573        2                     7   97  \n",
      "1048574        2                     7   97  \n",
      "\n",
      "[1048575 rows x 21 columns]\n"
     ]
    }
   ],
   "source": [
    "print(data)"
   ]
  },
  {
   "cell_type": "code",
   "execution_count": 36,
   "id": "4ecb6d47",
   "metadata": {},
   "outputs": [
    {
     "name": "stdout",
     "output_type": "stream",
     "text": [
      "<class 'pandas.core.frame.DataFrame'>\n",
      "RangeIndex: 1048575 entries, 0 to 1048574\n",
      "Data columns (total 21 columns):\n",
      " #   Column                Non-Null Count    Dtype \n",
      "---  ------                --------------    ----- \n",
      " 0   USMER                 1048575 non-null  int64 \n",
      " 1   MEDICAL_UNIT          1048575 non-null  int64 \n",
      " 2   SEX                   1048575 non-null  int64 \n",
      " 3   PATIENT_TYPE          1048575 non-null  int64 \n",
      " 4   DATE_DIED             1048575 non-null  object\n",
      " 5   INTUBED               1048575 non-null  int64 \n",
      " 6   PNEUMONIA             1048575 non-null  int64 \n",
      " 7   AGE                   1048575 non-null  int64 \n",
      " 8   PREGNANT              1048575 non-null  int64 \n",
      " 9   DIABETES              1048575 non-null  int64 \n",
      " 10  COPD                  1048575 non-null  int64 \n",
      " 11  ASTHMA                1048575 non-null  int64 \n",
      " 12  INMSUPR               1048575 non-null  int64 \n",
      " 13  HIPERTENSION          1048575 non-null  int64 \n",
      " 14  OTHER_DISEASE         1048575 non-null  int64 \n",
      " 15  CARDIOVASCULAR        1048575 non-null  int64 \n",
      " 16  OBESITY               1048575 non-null  int64 \n",
      " 17  RENAL_CHRONIC         1048575 non-null  int64 \n",
      " 18  TOBACCO               1048575 non-null  int64 \n",
      " 19  CLASIFFICATION_FINAL  1048575 non-null  int64 \n",
      " 20  ICU                   1048575 non-null  int64 \n",
      "dtypes: int64(20), object(1)\n",
      "memory usage: 168.0+ MB\n"
     ]
    }
   ],
   "source": [
    "data.info()"
   ]
  },
  {
   "cell_type": "code",
   "execution_count": 37,
   "id": "62b0c7b6",
   "metadata": {},
   "outputs": [],
   "source": [
    "data = data.drop('DATE_DIED', axis=1)"
   ]
  },
  {
   "cell_type": "code",
   "execution_count": 38,
   "id": "874f27d6",
   "metadata": {},
   "outputs": [
    {
     "name": "stdout",
     "output_type": "stream",
     "text": [
      "[[ 2  1  1 ...  2  2  3]\n",
      " [ 2  1  2 ...  1  2  5]\n",
      " [ 2  1  2 ...  2  2  3]\n",
      " ...\n",
      " [ 2 13  2 ...  2  2  7]\n",
      " [ 2 13  2 ...  2  2  7]\n",
      " [ 2 13  2 ...  2  2  7]]\n"
     ]
    }
   ],
   "source": [
    "X=data.iloc[:,:-1].values\n",
    "y=data.iloc[:,-1].values\n",
    "print(X)"
   ]
  },
  {
   "cell_type": "code",
   "execution_count": 39,
   "id": "80cb6aee",
   "metadata": {},
   "outputs": [
    {
     "name": "stdout",
     "output_type": "stream",
     "text": [
      "[97 97  2 ... 97 97 97]\n"
     ]
    }
   ],
   "source": [
    "print(y)"
   ]
  },
  {
   "cell_type": "code",
   "execution_count": 40,
   "id": "fb96ec0a",
   "metadata": {},
   "outputs": [],
   "source": [
    "#Handling Missing Values\n",
    "from sklearn.impute  import SimpleImputer\n",
    "imputer=SimpleImputer(missing_values=np.nan,strategy='mean')\n",
    "imputer.fit(X[:,0:18])\n",
    "X[:,0:18]=imputer.transform(X[:,0:18])\n"
   ]
  },
  {
   "cell_type": "code",
   "execution_count": 41,
   "id": "baf884ac",
   "metadata": {},
   "outputs": [
    {
     "name": "stdout",
     "output_type": "stream",
     "text": [
      "[[ 2  1  1 ...  2  2  3]\n",
      " [ 2  1  2 ...  1  2  5]\n",
      " [ 2  1  2 ...  2  2  3]\n",
      " ...\n",
      " [ 2 13  2 ...  2  2  7]\n",
      " [ 2 13  2 ...  2  2  7]\n",
      " [ 2 13  2 ...  2  2  7]]\n"
     ]
    }
   ],
   "source": [
    "print(X)"
   ]
  },
  {
   "cell_type": "code",
   "execution_count": 42,
   "id": "22b1883c",
   "metadata": {},
   "outputs": [],
   "source": [
    "#Spliting Data into Test and Train\n",
    "from sklearn.model_selection import train_test_split\n",
    "X_train, X_test, y_train, y_test = train_test_split(X, y, test_size=0.4, random_state=42)"
   ]
  },
  {
   "cell_type": "code",
   "execution_count": 43,
   "id": "38a53b1c",
   "metadata": {},
   "outputs": [
    {
     "name": "stdout",
     "output_type": "stream",
     "text": [
      "[[ 2  4  1 ...  2  2  3]\n",
      " [ 2 12  1 ...  2  2  7]\n",
      " [ 1  6  1 ...  2  2  3]\n",
      " ...\n",
      " [ 2  4  2 ...  2  1  3]\n",
      " [ 2 12  2 ...  2  2  5]\n",
      " [ 2  4  1 ...  2  2  3]]\n"
     ]
    }
   ],
   "source": [
    "print(X_train)"
   ]
  },
  {
   "cell_type": "code",
   "execution_count": 44,
   "id": "1678539e",
   "metadata": {},
   "outputs": [
    {
     "name": "stdout",
     "output_type": "stream",
     "text": [
      "[[ 2 12  1 ...  2  2  7]\n",
      " [ 2 12  2 ...  2  2  7]\n",
      " [ 2 12  1 ...  2  2  7]\n",
      " ...\n",
      " [ 2  4  1 ...  2  2  7]\n",
      " [ 2  4  1 ...  2  2  7]\n",
      " [ 1 12  2 ...  2  1  7]]\n"
     ]
    }
   ],
   "source": [
    "print(X_test)"
   ]
  },
  {
   "cell_type": "code",
   "execution_count": 45,
   "id": "8e82133a",
   "metadata": {},
   "outputs": [
    {
     "name": "stdout",
     "output_type": "stream",
     "text": [
      "[ 2 97 97 ... 97 97 97]\n"
     ]
    }
   ],
   "source": [
    "print(y_train)"
   ]
  },
  {
   "cell_type": "code",
   "execution_count": 46,
   "id": "372b5b7d",
   "metadata": {},
   "outputs": [
    {
     "name": "stdout",
     "output_type": "stream",
     "text": [
      "[97 97 97 ... 97 97 97]\n"
     ]
    }
   ],
   "source": [
    "print(y_test)"
   ]
  },
  {
   "cell_type": "code",
   "execution_count": 47,
   "id": "58582a9a",
   "metadata": {},
   "outputs": [
    {
     "name": "stdout",
     "output_type": "stream",
     "text": [
      "[2 2 1 ... 2 2 2]\n"
     ]
    }
   ],
   "source": [
    "#Encoding\n",
    "from sklearn.preprocessing import LabelEncoder\n",
    "le=LabelEncoder()\n",
    "y=le.fit_transform(y)\n",
    "print(y)"
   ]
  },
  {
   "cell_type": "code",
   "execution_count": 48,
   "id": "0bbf32e5",
   "metadata": {},
   "outputs": [
    {
     "name": "stdout",
     "output_type": "stream",
     "text": [
      "[[ 0 -1  0 ...  2  2  3]\n",
      " [ 0  0  0 ...  2  2  7]\n",
      " [-1  0  0 ...  2  2  3]\n",
      " ...\n",
      " [ 0 -1  1 ...  2  1  3]\n",
      " [ 0  0  1 ...  2  2  5]\n",
      " [ 0 -1  0 ...  2  2  3]]\n"
     ]
    }
   ],
   "source": [
    "#Feature Scaling\n",
    "from sklearn.preprocessing import StandardScaler\n",
    "\n",
    "sc = StandardScaler()\n",
    "X_train[:, :9] = sc.fit_transform(X_train[:, :9])\n",
    "X_test[:, :9] = sc.transform(X_test[:, :9])\n",
    "\n",
    "print(X_train)\n"
   ]
  },
  {
   "cell_type": "code",
   "execution_count": 49,
   "id": "0be2585f",
   "metadata": {},
   "outputs": [
    {
     "name": "stdout",
     "output_type": "stream",
     "text": [
      "[[ 0  0  0 ...  2  2  7]\n",
      " [ 0  0  1 ...  2  2  7]\n",
      " [ 0  0  0 ...  2  2  7]\n",
      " ...\n",
      " [ 0 -1  0 ...  2  2  7]\n",
      " [ 0 -1  0 ...  2  2  7]\n",
      " [-1  0  1 ...  2  1  7]]\n"
     ]
    }
   ],
   "source": [
    "print(X_test)"
   ]
  }
 ],
 "metadata": {
  "kernelspec": {
   "display_name": "Python 3 (ipykernel)",
   "language": "python",
   "name": "python3"
  },
  "language_info": {
   "codemirror_mode": {
    "name": "ipython",
    "version": 3
   },
   "file_extension": ".py",
   "mimetype": "text/x-python",
   "name": "python",
   "nbconvert_exporter": "python",
   "pygments_lexer": "ipython3",
   "version": "3.9.7"
  }
 },
 "nbformat": 4,
 "nbformat_minor": 5
}
